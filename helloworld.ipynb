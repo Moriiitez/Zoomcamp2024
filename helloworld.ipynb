{
 "cells": [
  {
   "cell_type": "code",
   "execution_count": null,
   "id": "1415b1f3-c9d0-4d7a-9f6a-203ddb71b5eb",
   "metadata": {},
   "outputs": [
    {
     "name": "stdout",
     "output_type": "stream",
     "text": [
      "Hello World in CodeSpace\n"
     ]
    }
   ],
   "source": [
    "print(\"Hello World in CodeSpace\")"
   ]
  },
  {
   "cell_type": "code",
   "execution_count": null,
   "id": "0f53373d-0ee1-4cf3-9a48-e49a59ce9a41",
   "metadata": {},
   "outputs": [],
   "source": []
  }
 ],
 "metadata": {
  "kernelspec": {
   "display_name": "Python 3 (ipykernel)",
   "language": "python",
   "name": "python3"
  },
  "language_info": {
   "name": "python",
   "version": "3.10.13"
  }
 },
 "nbformat": 4,
 "nbformat_minor": 5
}
